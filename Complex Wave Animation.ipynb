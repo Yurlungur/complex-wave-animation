{
 "cells": [
  {
   "cell_type": "code",
   "execution_count": 20,
   "metadata": {
    "collapsed": true
   },
   "outputs": [],
   "source": [
    "from __future__ import print_function\n",
    "import numpy as np\n",
    "import scipy as sp\n",
    "from matplotlib import pyplot as plt\n",
    "import matplotlib as mpl\n",
    "%matplotlib inline\n",
    "mpl.rcParams.update({'font.size':18})"
   ]
  },
  {
   "cell_type": "code",
   "execution_count": 21,
   "metadata": {
    "collapsed": true
   },
   "outputs": [],
   "source": [
    "k=3\n",
    "omega = 1\n",
    "A = 1\n",
    "x = np.linspace(-np.pi,np.pi,100)\n",
    "psi_re = lambda x,t: np.cos(k*x - omega*t)*np.exp(-x**2)\n",
    "psi_im = lambda x,t: np.sin(k*x - omega*t)*np.exp(-x**2)\n",
    "psi_norm = lambda x,t: np.exp(-x**2)"
   ]
  },
  {
   "cell_type": "code",
   "execution_count": 52,
   "metadata": {},
   "outputs": [
    {
     "data": {
      "image/png": "[encoded data removed]",
      "text/plain": [
       "<matplotlib.figure.Figure at 0x7f024d248ed0>"
      ]
     },
     "metadata": {},
     "output_type": "display_data"
    }
   ],
   "source": [
    "plt.plot(x,psi_norm(x,0),'b-',lw=3)\n",
    "plt.xlabel(r'$x$')\n",
    "plt.ylabel(r'$|\\psi|$')\n",
    "plt.savefig('figs/norm.png',bbox_inches='tight')"
   ]
  },
  {
   "cell_type": "code",
   "execution_count": 48,
   "metadata": {
    "collapsed": true
   },
   "outputs": [],
   "source": [
    "times = np.linspace(0,2*np.pi,31)\n",
    "dt = times[1]-times[0]\n",
    "def make_frame(i):\n",
    "    t = times[i]\n",
    "    plt.plot(x,psi_re(x,t),'b-',lw=3,label=r'Re$(\\psi)$')\n",
    "    plt.plot(x,psi_im(x,t),'r-',lw=3,label=r'Im$(\\psi)$')\n",
    "    plt.xlim(-0.8*np.pi,np.pi)\n",
    "    plt.ylim(-1.4,1.6)\n",
    "    plt.xlabel(r'$x$')\n",
    "    plt.ylabel(r'$\\psi$')\n",
    "    plt.legend(loc='upper right')\n",
    "    plt.savefig('figs/frame_{:0>2}.png'.format(i),bbox_inches='tight')\n",
    "    plt.clf()"
   ]
  },
  {
   "cell_type": "code",
   "execution_count": 49,
   "metadata": {},
   "outputs": [
    {
     "name": "stdout",
     "output_type": "stream",
     "text": [
      "0\n",
      "1\n",
      "2\n",
      "3\n",
      "4\n",
      "5\n",
      "6\n",
      "7\n",
      "8\n",
      "9\n",
      "10\n",
      "11\n",
      "12\n",
      "13\n",
      "14\n",
      "15\n",
      "16\n",
      "17\n",
      "18\n",
      "19\n",
      "20\n",
      "21\n",
      "22\n",
      "23\n",
      "24\n",
      "25\n",
      "26\n",
      "27\n",
      "28\n",
      "29\n",
      "30\n"
     ]
    },
    {
     "data": {
      "text/plain": [
       "<matplotlib.figure.Figure at 0x7f024d18acd0>"
      ]
     },
     "metadata": {},
     "output_type": "display_data"
    }
   ],
   "source": [
    "for i in range(len(times)):\n",
    "    print(i)\n",
    "    make_frame(i)"
   ]
  },
  {
   "cell_type": "code",
   "execution_count": 50,
   "metadata": {
    "collapsed": true
   },
   "outputs": [],
   "source": [
    "!convert -loop 0 -delay 10 figs/frame_*.png complex_wave.gif"
   ]
  },
  {
   "cell_type": "markdown",
   "metadata": {},
   "source": [
    "![](complex_wave.gif)"
   ]
  },
  {
   "cell_type": "code",
   "execution_count": null,
   "metadata": {
    "collapsed": true
   },
   "outputs": [],
   "source": []
  }
 ],
 "metadata": {
  "anaconda-cloud": {},
  "kernelspec": {
   "display_name": "Python [default]",
   "language": "python",
   "name": "python2"
  },
  "language_info": {
   "codemirror_mode": {
    "name": "ipython",
    "version": 2
   },
   "file_extension": ".py",
   "mimetype": "text/x-python",
   "name": "python",
   "nbconvert_exporter": "python",
   "pygments_lexer": "ipython2",
   "version": "2.7.13"
  }
 },
 "nbformat": 4,
 "nbformat_minor": 2
}
